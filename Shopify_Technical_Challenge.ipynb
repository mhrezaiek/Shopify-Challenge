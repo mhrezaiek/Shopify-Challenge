{
  "nbformat": 4,
  "nbformat_minor": 0,
  "metadata": {
    "colab": {
      "name": "Shopify Technical Challenge.ipynb",
      "provenance": []
    },
    "kernelspec": {
      "name": "python3",
      "display_name": "Python 3"
    },
    "language_info": {
      "name": "python"
    }
  },
  "cells": [
    {
      "cell_type": "markdown",
      "source": [
        "# Importing Dependencies "
      ],
      "metadata": {
        "id": "rFsM3w3GBJMZ"
      }
    },
    {
      "cell_type": "code",
      "execution_count": null,
      "metadata": {
        "id": "N61Rb172sx9S"
      },
      "outputs": [],
      "source": [
        "import numpy as np\n",
        "import pandas as pd\n",
        "import matplotlib.pyplot as plt "
      ]
    },
    {
      "cell_type": "markdown",
      "source": [
        "# Reading Dataset"
      ],
      "metadata": {
        "id": "vbuD95P8BTTR"
      }
    },
    {
      "cell_type": "code",
      "source": [
        "df= pd.read_csv(\"/content/drive/MyDrive/2019 Winter Data Science Intern Challenge Data Set - Sheet1.csv\")"
      ],
      "metadata": {
        "id": "hkdJpFeMs6Xp"
      },
      "execution_count": null,
      "outputs": []
    },
    {
      "cell_type": "markdown",
      "source": [
        "# Exploring dataframe (Question1)\n",
        "* Think about what could be going wrong with our calculation. Think about a \n",
        "better way to evaluate this data.\n",
        "\n",
        "Because our AOV is particularly high, we're going to investigate our order values in each shop. Calculating order amount / total item generates a new column (rev_per_item). Then we plot the sorted values of this column to see if the avarage value is abnormal. We learned from this plot that there is only one shop in this dataset with an unusual order value."
      ],
      "metadata": {
        "id": "197dIzXnBes3"
      }
    },
    {
      "cell_type": "code",
      "source": [
        "df[\"rev_per_item\"]= df[\"order_amount\"]/df[\"total_items\"]\n",
        "df.sort_values(by=[\"rev_per_item\"], inplace=True)\n",
        "df.drop_duplicates(subset =[\"shop_id\"], inplace = True)\n",
        "df.plot.bar(x=\"shop_id\", y=\"rev_per_item\", title=\"Average order amount\")\n",
        "df"
      ],
      "metadata": {
        "colab": {
          "base_uri": "https://localhost:8080/",
          "height": 707
        },
        "id": "P7EzpJ26uBIF",
        "outputId": "58d36fce-6d45-46aa-b9b3-d1219d5f4558"
      },
      "execution_count": null,
      "outputs": [
        {
          "output_type": "execute_result",
          "data": {
            "text/html": [
              "\n",
              "  <div id=\"df-65c21dc5-149a-497b-88fb-8c2041fbcb9d\">\n",
              "    <div class=\"colab-df-container\">\n",
              "      <div>\n",
              "<style scoped>\n",
              "    .dataframe tbody tr th:only-of-type {\n",
              "        vertical-align: middle;\n",
              "    }\n",
              "\n",
              "    .dataframe tbody tr th {\n",
              "        vertical-align: top;\n",
              "    }\n",
              "\n",
              "    .dataframe thead th {\n",
              "        text-align: right;\n",
              "    }\n",
              "</style>\n",
              "<table border=\"1\" class=\"dataframe\">\n",
              "  <thead>\n",
              "    <tr style=\"text-align: right;\">\n",
              "      <th></th>\n",
              "      <th>order_id</th>\n",
              "      <th>shop_id</th>\n",
              "      <th>user_id</th>\n",
              "      <th>order_amount</th>\n",
              "      <th>total_items</th>\n",
              "      <th>payment_method</th>\n",
              "      <th>created_at</th>\n",
              "      <th>rev_per_item</th>\n",
              "    </tr>\n",
              "  </thead>\n",
              "  <tbody>\n",
              "    <tr>\n",
              "      <th>245</th>\n",
              "      <td>246</td>\n",
              "      <td>92</td>\n",
              "      <td>890</td>\n",
              "      <td>360</td>\n",
              "      <td>4</td>\n",
              "      <td>cash</td>\n",
              "      <td>2017-03-18 17:42:29</td>\n",
              "      <td>90.0</td>\n",
              "    </tr>\n",
              "    <tr>\n",
              "      <th>2474</th>\n",
              "      <td>2475</td>\n",
              "      <td>2</td>\n",
              "      <td>893</td>\n",
              "      <td>282</td>\n",
              "      <td>3</td>\n",
              "      <td>debit</td>\n",
              "      <td>2017-03-21 12:25:26</td>\n",
              "      <td>94.0</td>\n",
              "    </tr>\n",
              "    <tr>\n",
              "      <th>3180</th>\n",
              "      <td>3181</td>\n",
              "      <td>32</td>\n",
              "      <td>809</td>\n",
              "      <td>101</td>\n",
              "      <td>1</td>\n",
              "      <td>cash</td>\n",
              "      <td>2017-03-10 14:01:52</td>\n",
              "      <td>101.0</td>\n",
              "    </tr>\n",
              "    <tr>\n",
              "      <th>846</th>\n",
              "      <td>847</td>\n",
              "      <td>100</td>\n",
              "      <td>745</td>\n",
              "      <td>111</td>\n",
              "      <td>1</td>\n",
              "      <td>credit_card</td>\n",
              "      <td>2017-03-12 3:46:08</td>\n",
              "      <td>111.0</td>\n",
              "    </tr>\n",
              "    <tr>\n",
              "      <th>4173</th>\n",
              "      <td>4174</td>\n",
              "      <td>53</td>\n",
              "      <td>922</td>\n",
              "      <td>336</td>\n",
              "      <td>3</td>\n",
              "      <td>credit_card</td>\n",
              "      <td>2017-03-30 5:56:44</td>\n",
              "      <td>112.0</td>\n",
              "    </tr>\n",
              "    <tr>\n",
              "      <th>...</th>\n",
              "      <td>...</td>\n",
              "      <td>...</td>\n",
              "      <td>...</td>\n",
              "      <td>...</td>\n",
              "      <td>...</td>\n",
              "      <td>...</td>\n",
              "      <td>...</td>\n",
              "      <td>...</td>\n",
              "    </tr>\n",
              "    <tr>\n",
              "      <th>977</th>\n",
              "      <td>978</td>\n",
              "      <td>99</td>\n",
              "      <td>870</td>\n",
              "      <td>390</td>\n",
              "      <td>2</td>\n",
              "      <td>credit_card</td>\n",
              "      <td>2017-03-26 6:01:36</td>\n",
              "      <td>195.0</td>\n",
              "    </tr>\n",
              "    <tr>\n",
              "      <th>2091</th>\n",
              "      <td>2092</td>\n",
              "      <td>89</td>\n",
              "      <td>940</td>\n",
              "      <td>392</td>\n",
              "      <td>2</td>\n",
              "      <td>cash</td>\n",
              "      <td>2017-03-02 4:17:44</td>\n",
              "      <td>196.0</td>\n",
              "    </tr>\n",
              "    <tr>\n",
              "      <th>4994</th>\n",
              "      <td>4995</td>\n",
              "      <td>12</td>\n",
              "      <td>954</td>\n",
              "      <td>201</td>\n",
              "      <td>1</td>\n",
              "      <td>cash</td>\n",
              "      <td>2017-03-22 0:38:11</td>\n",
              "      <td>201.0</td>\n",
              "    </tr>\n",
              "    <tr>\n",
              "      <th>4056</th>\n",
              "      <td>4057</td>\n",
              "      <td>42</td>\n",
              "      <td>607</td>\n",
              "      <td>704000</td>\n",
              "      <td>2000</td>\n",
              "      <td>credit_card</td>\n",
              "      <td>2017-03-28 4:00:00</td>\n",
              "      <td>352.0</td>\n",
              "    </tr>\n",
              "    <tr>\n",
              "      <th>3101</th>\n",
              "      <td>3102</td>\n",
              "      <td>78</td>\n",
              "      <td>855</td>\n",
              "      <td>51450</td>\n",
              "      <td>2</td>\n",
              "      <td>credit_card</td>\n",
              "      <td>2017-03-21 5:10:34</td>\n",
              "      <td>25725.0</td>\n",
              "    </tr>\n",
              "  </tbody>\n",
              "</table>\n",
              "<p>100 rows × 8 columns</p>\n",
              "</div>\n",
              "      <button class=\"colab-df-convert\" onclick=\"convertToInteractive('df-65c21dc5-149a-497b-88fb-8c2041fbcb9d')\"\n",
              "              title=\"Convert this dataframe to an interactive table.\"\n",
              "              style=\"display:none;\">\n",
              "        \n",
              "  <svg xmlns=\"http://www.w3.org/2000/svg\" height=\"24px\"viewBox=\"0 0 24 24\"\n",
              "       width=\"24px\">\n",
              "    <path d=\"M0 0h24v24H0V0z\" fill=\"none\"/>\n",
              "    <path d=\"M18.56 5.44l.94 2.06.94-2.06 2.06-.94-2.06-.94-.94-2.06-.94 2.06-2.06.94zm-11 1L8.5 8.5l.94-2.06 2.06-.94-2.06-.94L8.5 2.5l-.94 2.06-2.06.94zm10 10l.94 2.06.94-2.06 2.06-.94-2.06-.94-.94-2.06-.94 2.06-2.06.94z\"/><path d=\"M17.41 7.96l-1.37-1.37c-.4-.4-.92-.59-1.43-.59-.52 0-1.04.2-1.43.59L10.3 9.45l-7.72 7.72c-.78.78-.78 2.05 0 2.83L4 21.41c.39.39.9.59 1.41.59.51 0 1.02-.2 1.41-.59l7.78-7.78 2.81-2.81c.8-.78.8-2.07 0-2.86zM5.41 20L4 18.59l7.72-7.72 1.47 1.35L5.41 20z\"/>\n",
              "  </svg>\n",
              "      </button>\n",
              "      \n",
              "  <style>\n",
              "    .colab-df-container {\n",
              "      display:flex;\n",
              "      flex-wrap:wrap;\n",
              "      gap: 12px;\n",
              "    }\n",
              "\n",
              "    .colab-df-convert {\n",
              "      background-color: #E8F0FE;\n",
              "      border: none;\n",
              "      border-radius: 50%;\n",
              "      cursor: pointer;\n",
              "      display: none;\n",
              "      fill: #1967D2;\n",
              "      height: 32px;\n",
              "      padding: 0 0 0 0;\n",
              "      width: 32px;\n",
              "    }\n",
              "\n",
              "    .colab-df-convert:hover {\n",
              "      background-color: #E2EBFA;\n",
              "      box-shadow: 0px 1px 2px rgba(60, 64, 67, 0.3), 0px 1px 3px 1px rgba(60, 64, 67, 0.15);\n",
              "      fill: #174EA6;\n",
              "    }\n",
              "\n",
              "    [theme=dark] .colab-df-convert {\n",
              "      background-color: #3B4455;\n",
              "      fill: #D2E3FC;\n",
              "    }\n",
              "\n",
              "    [theme=dark] .colab-df-convert:hover {\n",
              "      background-color: #434B5C;\n",
              "      box-shadow: 0px 1px 3px 1px rgba(0, 0, 0, 0.15);\n",
              "      filter: drop-shadow(0px 1px 2px rgba(0, 0, 0, 0.3));\n",
              "      fill: #FFFFFF;\n",
              "    }\n",
              "  </style>\n",
              "\n",
              "      <script>\n",
              "        const buttonEl =\n",
              "          document.querySelector('#df-65c21dc5-149a-497b-88fb-8c2041fbcb9d button.colab-df-convert');\n",
              "        buttonEl.style.display =\n",
              "          google.colab.kernel.accessAllowed ? 'block' : 'none';\n",
              "\n",
              "        async function convertToInteractive(key) {\n",
              "          const element = document.querySelector('#df-65c21dc5-149a-497b-88fb-8c2041fbcb9d');\n",
              "          const dataTable =\n",
              "            await google.colab.kernel.invokeFunction('convertToInteractive',\n",
              "                                                     [key], {});\n",
              "          if (!dataTable) return;\n",
              "\n",
              "          const docLinkHtml = 'Like what you see? Visit the ' +\n",
              "            '<a target=\"_blank\" href=https://colab.research.google.com/notebooks/data_table.ipynb>data table notebook</a>'\n",
              "            + ' to learn more about interactive tables.';\n",
              "          element.innerHTML = '';\n",
              "          dataTable['output_type'] = 'display_data';\n",
              "          await google.colab.output.renderOutput(dataTable, element);\n",
              "          const docLink = document.createElement('div');\n",
              "          docLink.innerHTML = docLinkHtml;\n",
              "          element.appendChild(docLink);\n",
              "        }\n",
              "      </script>\n",
              "    </div>\n",
              "  </div>\n",
              "  "
            ],
            "text/plain": [
              "      order_id  shop_id  ...           created_at  rev_per_item\n",
              "245        246       92  ...  2017-03-18 17:42:29          90.0\n",
              "2474      2475        2  ...  2017-03-21 12:25:26          94.0\n",
              "3180      3181       32  ...  2017-03-10 14:01:52         101.0\n",
              "846        847      100  ...   2017-03-12 3:46:08         111.0\n",
              "4173      4174       53  ...   2017-03-30 5:56:44         112.0\n",
              "...        ...      ...  ...                  ...           ...\n",
              "977        978       99  ...   2017-03-26 6:01:36         195.0\n",
              "2091      2092       89  ...   2017-03-02 4:17:44         196.0\n",
              "4994      4995       12  ...   2017-03-22 0:38:11         201.0\n",
              "4056      4057       42  ...   2017-03-28 4:00:00         352.0\n",
              "3101      3102       78  ...   2017-03-21 5:10:34       25725.0\n",
              "\n",
              "[100 rows x 8 columns]"
            ]
          },
          "metadata": {},
          "execution_count": 8
        },
        {
          "output_type": "display_data",
          "data": {
            "image/png": "[encoded data removed]",
            "text/plain": [
              "<Figure size 432x288 with 1 Axes>"
            ]
          },
          "metadata": {
            "needs_background": "light"
          }
        }
      ]
    },
    {
      "cell_type": "markdown",
      "source": [
        "We are going to break our plot into two different plots with a threshold of 5000 revenue value because the previous plot does not offer a lot of information about our values distribution."
      ],
      "metadata": {
        "id": "TtAMk5ysHC5F"
      }
    },
    {
      "cell_type": "code",
      "source": [
        "df_valids = df[df[\"rev_per_item\"]<5000]\n",
        "fig1 = df_valids.plot.bar(x=\"shop_id\", y=\"rev_per_item\", title=\"Revenue value per order\")\n",
        "fig = fig1.get_figure()\n",
        "fig.savefig(\"output1.png\")\n",
        "df_invalids = df[df[\"rev_per_item\"]>=5000]\n",
        "fig2 = df_invalids.plot.bar(x=\"shop_id\", y=\"rev_per_item\", title=\"Revenue value per order\")\n",
        "fig = fig2.get_figure()\n",
        "fig.savefig(\"output2.png\")"
      ],
      "metadata": {
        "colab": {
          "base_uri": "https://localhost:8080/",
          "height": 587
        },
        "id": "oXIZzmw3vnHm",
        "outputId": "415e82b0-464a-43f3-fbc1-83712cf6fa03"
      },
      "execution_count": null,
      "outputs": [
        {
          "output_type": "display_data",
          "data": {
            "image/png": "[encoded data removed]",
            "text/plain": [
              "<Figure size 432x288 with 1 Axes>"
            ]
          },
          "metadata": {
            "needs_background": "light"
          }
        },
        {
          "output_type": "display_data",
          "data": {
            "image/png": "[encoded data removed]",
            "text/plain": [
              "<Figure size 432x288 with 1 Axes>"
            ]
          },
          "metadata": {
            "needs_background": "light"
          }
        }
      ]
    },
    {
      "cell_type": "markdown",
      "source": [
        "# Question 2 and 3\n",
        "* What metric would you report for this dataset?\n",
        "* What is its value?\n",
        "\n",
        "\n",
        "Because the average measure is so sensitive to dataset noise, the median metric is an excellent solution for our problem. The median of revenue value per order in this situation is 153."
      ],
      "metadata": {
        "id": "AYdl4ZhhLEXZ"
      }
    },
    {
      "cell_type": "code",
      "source": [
        "df[\"rev_per_item\"].median()"
      ],
      "metadata": {
        "colab": {
          "base_uri": "https://localhost:8080/"
        },
        "id": "KaXy0L9UAnV7",
        "outputId": "34a8bbd1-3609-48bd-c725-6d9d87213ac4"
      },
      "execution_count": null,
      "outputs": [
        {
          "output_type": "execute_result",
          "data": {
            "text/plain": [
              "153.0"
            ]
          },
          "metadata": {},
          "execution_count": 37
        }
      ]
    }
  ]
}